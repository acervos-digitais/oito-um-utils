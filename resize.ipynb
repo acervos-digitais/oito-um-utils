{
 "cells": [
  {
   "cell_type": "markdown",
   "metadata": {},
   "source": [
    "### Resize"
   ]
  },
  {
   "cell_type": "code",
   "execution_count": null,
   "metadata": {},
   "outputs": [],
   "source": [
    "import json\n",
    "import subprocess\n",
    "\n",
    "from multiprocessing import Process, JoinableQueue as Queue\n",
    "from os import listdir, makedirs, path\n",
    "from queue import Empty as QueueEmptyException\n",
    "\n",
    "CAMERA_DB_PATH = \"./metadata/cameras.json\"\n",
    "\n",
    "INPUT_PATH = \"/home/vmubuntu/OitoDeJaneiro/vids/FULL-0801\"\n",
    "OUTPUT_PATH = \"/home/vmubuntu/OitoDeJaneiro/vids/0801-1152\"\n",
    "\n",
    "FFMPEG_CMD = 'ffmpeg -i \"INPUT_PATH\" -vf scale=1152:-2 -an -r 30 \"OUTPUT_PATH\"'"
   ]
  },
  {
   "cell_type": "code",
   "execution_count": null,
   "metadata": {},
   "outputs": [],
   "source": [
    "with open(CAMERA_DB_PATH, \"r\") as f:\n",
    "  camera_data = json.load(f)"
   ]
  },
  {
   "cell_type": "code",
   "execution_count": null,
   "metadata": {},
   "outputs": [],
   "source": [
    "def run_ffmpeg(q):\n",
    "  while True:\n",
    "    try:\n",
    "      ip, op = q.get(timeout=3)\n",
    "    except QueueEmptyException:\n",
    "      return\n",
    "    my_cmd = FFMPEG_CMD.replace(\"INPUT_PATH\", ip).replace(\"OUTPUT_PATH\", op)\n",
    "    print(my_cmd)\n",
    "    ret = subprocess.run(my_cmd, shell=True)\n",
    "    q.task_done()"
   ]
  },
  {
   "cell_type": "code",
   "execution_count": null,
   "metadata": {},
   "outputs": [],
   "source": [
    "to_process = Queue()\n",
    "\n",
    "for io_dir in sorted(camera_data.keys()):\n",
    "  input_dir_path = path.join(INPUT_PATH, io_dir)\n",
    "  output_dir_path = path.join(OUTPUT_PATH, io_dir)\n",
    "  makedirs(output_dir_path, exist_ok=True)\n",
    "\n",
    "  input_files = sorted([f for f in listdir(input_dir_path) if f.endswith(\"mp4\")])\n",
    "  for io_file in input_files:\n",
    "    output_file_path = path.join(output_dir_path, io_file)\n",
    "    if not path.exists(output_file_path):\n",
    "      input_file_path = path.join(input_dir_path, io_file)\n",
    "      to_process.put((input_file_path, output_file_path))"
   ]
  },
  {
   "cell_type": "code",
   "execution_count": null,
   "metadata": {},
   "outputs": [],
   "source": [
    "for _ in range(4):\n",
    "  Process(target=run_ffmpeg, args=(to_process,)).start()\n",
    "\n",
    "to_process.join()\n",
    "print(\"DONE\")"
   ]
  },
  {
   "cell_type": "markdown",
   "metadata": {},
   "source": [
    "### Resample"
   ]
  },
  {
   "cell_type": "code",
   "execution_count": null,
   "metadata": {},
   "outputs": [],
   "source": [
    "import json\n",
    "import subprocess\n",
    "\n",
    "from multiprocessing import Process, JoinableQueue as Queue\n",
    "from os import listdir, makedirs, path\n",
    "from queue import Empty as QueueEmptyException\n",
    "\n",
    "CAMERA_DB_PATH = \"./metadata/cameras.json\"\n",
    "\n",
    "INPUT_PATH = \"/home/tbd/OitoDeJaneiro/vids/0801-1152\"\n",
    "OUTPUT_PATH = \"/home/tbd/OitoDeJaneiro/vids/0801-1152_30\"\n",
    "\n",
    "FFMPEG_CMD = 'ffmpeg -i \"INPUT_PATH\" -r 30 \"OUTPUT_PATH\"'"
   ]
  },
  {
   "cell_type": "code",
   "execution_count": null,
   "metadata": {},
   "outputs": [],
   "source": [
    "with open(CAMERA_DB_PATH, \"r\") as f:\n",
    "  camera_data = json.load(f)"
   ]
  },
  {
   "cell_type": "code",
   "execution_count": null,
   "metadata": {},
   "outputs": [],
   "source": [
    "def run_ffmpeg(q):\n",
    "  while True:\n",
    "    try:\n",
    "      ip, op = q.get(timeout=3)\n",
    "    except QueueEmptyException:\n",
    "      return\n",
    "    my_cmd = FFMPEG_CMD.replace(\"INPUT_PATH\", ip).replace(\"OUTPUT_PATH\", op)\n",
    "    print(my_cmd)\n",
    "    ret = subprocess.run(my_cmd, shell=True)\n",
    "    q.task_done()"
   ]
  },
  {
   "cell_type": "code",
   "execution_count": null,
   "metadata": {},
   "outputs": [],
   "source": [
    "to_process = Queue()\n",
    "\n",
    "for io_dir in sorted(camera_data.keys()):\n",
    "  input_dir_path = path.join(INPUT_PATH, io_dir)\n",
    "  output_dir_path = path.join(OUTPUT_PATH, io_dir)\n",
    "  makedirs(output_dir_path, exist_ok=True)\n",
    "\n",
    "  input_files = sorted([f for f in listdir(input_dir_path) if f.endswith(\"mp4\")])\n",
    "  for io_file in input_files:\n",
    "    output_file_path = path.join(output_dir_path, io_file)\n",
    "    if not path.exists(output_file_path):\n",
    "      input_file_path = path.join(input_dir_path, io_file)\n",
    "      to_process.put((input_file_path, output_file_path))"
   ]
  },
  {
   "cell_type": "code",
   "execution_count": null,
   "metadata": {},
   "outputs": [],
   "source": [
    "for _ in range(3):\n",
    "  Process(target=run_ffmpeg, args=(to_process,)).start()\n",
    "\n",
    "to_process.join()\n",
    "print(\"DONE\")"
   ]
  },
  {
   "cell_type": "code",
   "execution_count": null,
   "metadata": {},
   "outputs": [],
   "source": []
  }
 ],
 "metadata": {
  "kernelspec": {
   "display_name": "Python 3 (ipykernel)",
   "language": "python",
   "name": "python3"
  },
  "language_info": {
   "codemirror_mode": {
    "name": "ipython",
    "version": 3
   },
   "file_extension": ".py",
   "mimetype": "text/x-python",
   "name": "python",
   "nbconvert_exporter": "python",
   "pygments_lexer": "ipython3",
   "version": "3.10.9"
  }
 },
 "nbformat": 4,
 "nbformat_minor": 4
}
