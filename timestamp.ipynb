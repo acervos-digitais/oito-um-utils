{
 "cells": [
  {
   "cell_type": "code",
   "execution_count": null,
   "metadata": {},
   "outputs": [],
   "source": [
    "import cv2\n",
    "import json\n",
    "import re\n",
    "import subprocess\n",
    "\n",
    "from datetime import datetime\n",
    "from multiprocessing import Process, JoinableQueue as Queue\n",
    "from os import listdir, path\n",
    "from queue import Empty as QueueEmptyException\n",
    "\n",
    "CAMERA_DB_PATH = \"./metadata/cameras.json\"\n",
    "\n",
    "VIDEO_PATH = \"/home/vmubuntu/OitoDeJaneiro/vids/0801-500\"\n",
    "DB_PATH = \"./metadata/videos.json\""
   ]
  },
  {
   "cell_type": "code",
   "execution_count": null,
   "metadata": {},
   "outputs": [],
   "source": [
    "with open(DB_PATH, \"r\") as f:\n",
    "  video_data = json.load(f)\n",
    "\n",
    "with open(CAMERA_DB_PATH, \"r\") as f:\n",
    "  camera_data = json.load(f)"
   ]
  },
  {
   "cell_type": "code",
   "execution_count": null,
   "metadata": {},
   "outputs": [],
   "source": [
    "DATETIME_PATTERN = r'([0-9]{1,2})[-/]([0-9]{1,2})[-/]([0-9]{2,4}) ([0-9]{1,2}):([0-9]{1,2}):([0-9]{1,2})'\n",
    "DATETIME_FORMAT = '%d%m%Y%H%M%S%z'\n",
    "\n",
    "def string_to_epoch(datetime_string):\n",
    "  matches = list(re.search(DATETIME_PATTERN, datetime_string).groups())\n",
    "  matches = [('00'+m)[-2:] for m in matches]\n",
    "  matches[2] = ('20'+matches[2])[-4:]\n",
    "  with_utc_offset = \"\".join(matches) + \"-0300\"\n",
    "  dt = datetime.strptime(with_utc_offset, DATETIME_FORMAT)\n",
    "  return int(dt.timestamp())"
   ]
  },
  {
   "cell_type": "code",
   "execution_count": null,
   "metadata": {},
   "outputs": [],
   "source": [
    "# TODO: implement this\n",
    "def ocr(img):\n",
    "  # TODO: crop img\n",
    "  return \"08-01-2023 15:30:20\""
   ]
  },
  {
   "cell_type": "code",
   "execution_count": null,
   "metadata": {},
   "outputs": [],
   "source": [
    "class Stamp:\n",
    "  def __init__(self, seconds, timestamp):\n",
    "    self.timestamp = timestamp\n",
    "    self.seconds = seconds\n",
    "  def get_pair(self):\n",
    "    return [self.timestamp, self.seconds]\n",
    "\n",
    "def stamp_center(vid, stamp_0, stamp_1):\n",
    "  diff_seconds = stamp_1.seconds - stamp_0.seconds\n",
    "  diff_timestamp = stamp_1.timestamp - stamp_0.timestamp\n",
    "\n",
    "  if (diff_seconds) > 1 and abs(diff_seconds - diff_timestamp) > 1:\n",
    "    center_seconds = (stamp_1.seconds + stamp_0.seconds) / 2 + stamp_0.seconds\n",
    "    center_frame = center_seconds * vid.get(cv2.CAP_PROP_FPS)\n",
    "\n",
    "    vid.set(cv2.CAP_PROP_POS_FRAMES, center_frame)\n",
    "    _, frame_img = vid.read()\n",
    "\n",
    "    dts = ocr(frame_img)\n",
    "    center_timestamp = string_to_epoch(dts)\n",
    "    stamp_c = Stamp(center_seconds, center_timestamp)\n",
    "\n",
    "    left_center = [] # stamp_center(vid, stamp_0, stamp_c)\n",
    "    right_center = [] # stamp_center(vid, stamp_c, stamp_1)\n",
    "\n",
    "    return left_center + [stamp_c] + right_center\n",
    "  else:\n",
    "    return []"
   ]
  },
  {
   "cell_type": "code",
   "execution_count": null,
   "metadata": {},
   "outputs": [],
   "source": [
    "to_process = Queue()\n",
    "\n",
    "for io_dir in camera_data.keys():\n",
    "  input_dir_path = path.join(VIDEO_PATH, io_dir)\n",
    "  input_files = sorted([f for f in listdir(input_dir_path) if f.endswith(\"mp4\")])\n",
    "\n",
    "  for io_file in input_files:\n",
    "    input_file_path = path.join(input_dir_path, io_file)\n",
    "\n",
    "    if io_file not in video_data:\n",
    "      video_data[io_file] = {\n",
    "        \"name\": io_file,\n",
    "        \"camera\": io_dir,\n",
    "      }\n",
    "\n",
    "    file_data = video_data[io_file]\n",
    "    vid = None\n",
    "    if not (\"length_seconds\" in file_data and \"length_frames\" in file_data):\n",
    "      if vid is None:\n",
    "        vid = cv2.VideoCapture(input_file_path)\n",
    "\n",
    "      fps = vid.get(cv2.CAP_PROP_FPS)\n",
    "      length_frames = vid.get(cv2.CAP_PROP_FRAME_COUNT)\n",
    "      file_data[\"length_frames\"] = length_frames\n",
    "\n",
    "      vid.set(cv2.CAP_PROP_POS_AVI_RATIO, 1)\n",
    "      length_seconds_seek = vid.get(cv2.CAP_PROP_POS_MSEC) // 1000\n",
    "      length_seconds_fps = length_frames // fps\n",
    "\n",
    "      if abs(length_seconds_fps - length_seconds_seek) > 2:\n",
    "        print(\"ERROR: video length\", io_file, length_seconds_fps, length_seconds_seek)\n",
    "      else:\n",
    "        file_data[\"length_seconds\"] = length_seconds_fps\n",
    "\n",
    "    if not (\"time_start\" in file_data and \"time_end\" in file_data):\n",
    "      if vid is None:\n",
    "        vid = cv2.VideoCapture(input_file_path)\n",
    "\n",
    "      last_frame = vid.get(cv2.CAP_PROP_FRAME_COUNT) - 1\n",
    "\n",
    "      vid.set(cv2.CAP_PROP_POS_FRAMES, 0)\n",
    "      _, frame_0 = vid.read()\n",
    "      dts_0 = ocr(frame_0)\n",
    "      frame_0_timestamp = string_to_epoch(dts_0)\n",
    "      stamp_0 = Stamp(0, frame_0_timestamp)\n",
    "\n",
    "      vid.set(cv2.CAP_PROP_POS_FRAMES, last_frame)\n",
    "      _, frame_n = vid.read()\n",
    "      dts_n = ocr(frame_n)\n",
    "      frame_n_timestamp = string_to_epoch(dts_n)\n",
    "      stamp_n = Stamp(length_seconds_fps, frame_n_timestamp)\n",
    "\n",
    "      stamps_c = [] # stamp_center(vid, stamp_0, stamp_n)\n",
    "      seek = [stamp_0] + stamps_c + [stamp_n]\n",
    "\n",
    "      file_data[\"time_start\"] = frame_0_timestamp\n",
    "      file_data[\"time_end\"] = frame_n_timestamp\n",
    "      file_data[\"continuous\"] = abs((frame_n_timestamp - frame_0_timestamp) - length_seconds_fps) < 1\n",
    "      file_data[\"seek\"] = [s.get_pair() for s in seek]\n",
    "\n",
    "    if vid is not None:\n",
    "      vid.release()"
   ]
  },
  {
   "cell_type": "code",
   "execution_count": null,
   "metadata": {},
   "outputs": [],
   "source": [
    "with open(DB_PATH, \"w\") as f:\n",
    "  json.dump(video_data, f, indent=2)"
   ]
  }
 ],
 "metadata": {
  "kernelspec": {
   "display_name": "9103",
   "language": "python",
   "name": "python3"
  },
  "language_info": {
   "codemirror_mode": {
    "name": "ipython",
    "version": 3
   },
   "file_extension": ".py",
   "mimetype": "text/x-python",
   "name": "python",
   "nbconvert_exporter": "python",
   "pygments_lexer": "ipython3",
   "version": "3.10.13"
  }
 },
 "nbformat": 4,
 "nbformat_minor": 2
}
