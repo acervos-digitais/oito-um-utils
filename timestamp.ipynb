{
 "cells": [
  {
   "cell_type": "code",
   "execution_count": null,
   "metadata": {},
   "outputs": [],
   "source": [
    "import cv2\n",
    "import json\n",
    "import re\n",
    "import subprocess\n",
    "\n",
    "from datetime import datetime\n",
    "from multiprocessing import Process, JoinableQueue as Queue\n",
    "from os import listdir, path\n",
    "from queue import Empty as QueueEmptyException\n",
    "\n",
    "CAMERA_DB_PATH = \"./metadata/cameras.json\"\n",
    "\n",
    "VIDEO_PATH = \"/home/vmubuntu/OitoDeJaneiro/vids/0801-500\"\n",
    "DB_PATH = \"./metadata/videos.json\""
   ]
  },
  {
   "cell_type": "code",
   "execution_count": null,
   "metadata": {},
   "outputs": [],
   "source": [
    "with open(DB_PATH, \"r\") as f:\n",
    "  video_data = json.load(f)\n",
    "\n",
    "with open(CAMERA_DB_PATH, \"r\") as f:\n",
    "  camera_data = json.load(f)"
   ]
  },
  {
   "cell_type": "code",
   "execution_count": null,
   "metadata": {},
   "outputs": [],
   "source": [
    "DATETIME_PATTERN = r'([0-9]{1,2})[-/]([0-9]{1,2})[-/]([0-9]{2,4}) ([0-9]{1,2}):([0-9]{1,2}):([0-9]{1,2})'\n",
    "DATETIME_FORMAT = '%d%m%Y%H%M%S%z'\n",
    "\n",
    "def string_to_epoch(datetime_string):\n",
    "  matches = list(re.search(DATETIME_PATTERN, datetime_string).groups())\n",
    "  matches = [('00'+m)[-2:] for m in matches]\n",
    "  matches[2] = ('20'+matches[2])[-4:]\n",
    "  with_utc_offset = \"\".join(matches) + \"-0300\"\n",
    "  dt = datetime.strptime(with_utc_offset, DATETIME_FORMAT)\n",
    "  return int(dt.timestamp())"
   ]
  },
  {
   "cell_type": "code",
   "execution_count": null,
   "metadata": {},
   "outputs": [],
   "source": [
    "def get_times(vid, time_0, time_1):\n",
    "  # if time_1 == time_0 or (time_1 - time_0) == (timestamp_1 - timestamp_0)\n",
    "  \n",
    "  return []"
   ]
  },
  {
   "cell_type": "code",
   "execution_count": null,
   "metadata": {},
   "outputs": [],
   "source": [
    "to_process = Queue()\n",
    "\n",
    "for io_dir in camera_data.keys():\n",
    "  input_dir_path = path.join(VIDEO_PATH, io_dir)\n",
    "  input_files = sorted([f for f in listdir(input_dir_path) if f.endswith(\"mp4\")])\n",
    "\n",
    "  for io_file in input_files:\n",
    "    input_file_path = path.join(input_dir_path, io_file)\n",
    "\n",
    "    if io_file not in video_data:\n",
    "      video_data[io_file] = {\n",
    "        \"name\": io_file,\n",
    "        \"camera\": io_dir,\n",
    "      }\n",
    "\n",
    "    file_data = video_data[io_file]\n",
    "    vid = None\n",
    "    if not (\"length_seconds\" in file_data and \"length_frames\" in file_data):\n",
    "      if vid is None:\n",
    "        vid = cv2.VideoCapture(input_file_path)\n",
    "\n",
    "      fps = vid.get(cv2.CAP_PROP_FPS)\n",
    "      length_frames = vid.get(cv2.CAP_PROP_FRAME_COUNT)\n",
    "      file_data[\"length_frames\"] = length_frames\n",
    "\n",
    "      vid.set(cv2.CAP_PROP_POS_AVI_RATIO, 1)\n",
    "      length_seconds_seek = vid.get(cv2.CAP_PROP_POS_MSEC) // 1000\n",
    "      length_seconds_fps = length_frames // fps\n",
    "\n",
    "      if abs(length_seconds_fps - length_seconds_seek) > 2:\n",
    "        print(\"ERROR: video length\", io_file, length_seconds_fps, length_seconds_seek)\n",
    "      else:\n",
    "        file_data[\"length_seconds\"] = length_seconds_fps\n",
    "\n",
    "    if not (\"time_start\" in file_data and \"time_end\" in file_data):\n",
    "      if vid is None:\n",
    "        vid = cv2.VideoCapture(input_file_path)\n",
    "\n",
    "      seek = []\n",
    "      length_frames = vid.get(cv2.CAP_PROP_FRAME_COUNT)\n",
    "\n",
    "      vid.set(cv2.CAP_PROP_POS_FRAMES, 0)\n",
    "      ret, frame_0 = vid.read()\n",
    "\n",
    "      vid.set(cv2.CAP_PROP_POS_FRAMES, length_frames - 1)\n",
    "      ret, frame_n = vid.read()\n",
    "\n",
    "      # crop frames\n",
    "      # process frames and get localtime strings\n",
    "      # string_to_epoch(datetime_string)\n",
    "      # set continuous\n",
    "\n",
    "    if vid is not None:\n",
    "      vid.release()"
   ]
  },
  {
   "cell_type": "code",
   "execution_count": null,
   "metadata": {},
   "outputs": [],
   "source": [
    "with open(DB_PATH, \"w\") as f:\n",
    "  json.dump(video_data, f, indent=2)"
   ]
  }
 ],
 "metadata": {
  "kernelspec": {
   "display_name": "9103",
   "language": "python",
   "name": "python3"
  },
  "language_info": {
   "codemirror_mode": {
    "name": "ipython",
    "version": 3
   },
   "file_extension": ".py",
   "mimetype": "text/x-python",
   "name": "python",
   "nbconvert_exporter": "python",
   "pygments_lexer": "ipython3",
   "version": "3.10.13"
  }
 },
 "nbformat": 4,
 "nbformat_minor": 2
}
