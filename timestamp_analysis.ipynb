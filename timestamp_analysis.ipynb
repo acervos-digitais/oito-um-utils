{
 "cells": [
  {
   "cell_type": "markdown",
   "metadata": {},
   "source": [
    "## Timestamp Analysis"
   ]
  },
  {
   "cell_type": "markdown",
   "metadata": {},
   "source": [
    "### TODO:\n",
    "- Look into time: 26, 15, 21*, 31*, 23, 05\n",
    "- Look into date: 33, 30, 24, 25, 21*, 31*\n",
    "- Look into mono: 32, 02, 15, 11"
   ]
  },
  {
   "cell_type": "code",
   "execution_count": null,
   "metadata": {},
   "outputs": [],
   "source": [
    "import json\n",
    "import pandas as pd\n",
    "\n",
    "from datetime import datetime, timedelta, timezone\n",
    "from os import listdir, path\n",
    "\n",
    "CAMERA_DB_PATH = \"./metadata/cameras.json\"\n",
    "\n",
    "META_PATHS = [\n",
    "  \"./metadata/FULL-0801\",\n",
    "  \"./metadata/0801-1152\",\n",
    "  \"./metadata/0801-1152-pp0\",\n",
    "  \"./metadata/0801-1152-crop\",\n",
    "  \"./metadata/0801-1152-pp0-crop\",\n",
    "]\n",
    "\n",
    "# makedirs(META_PATH_2, exist_ok=True)\n",
    "\n",
    "TZ_BR = timezone(timedelta(hours=-3))\n",
    "\n",
    "DATETIME_STR_FORMAT = '%Y-%m-%d %H:%M:%S'\n",
    "DEFAULT_DATETIME_2023 = datetime.strptime(\"08012023000000-0300\", '%d%m%Y%H%M%S%z')\n",
    "ERROR_DATETIME = datetime.strptime(\"01012025000000-0300\", '%d%m%Y%H%M%S%z')\n",
    "ERROR_TIMESTAMP = int(ERROR_DATETIME.timestamp())"
   ]
  },
  {
   "cell_type": "code",
   "execution_count": null,
   "metadata": {},
   "outputs": [],
   "source": [
    "def correct_date(dt):\n",
    "  correct_year = DEFAULT_DATETIME_2023.year == dt.year\n",
    "  correct_month = DEFAULT_DATETIME_2023.month == dt.month\n",
    "  correct_day = abs(DEFAULT_DATETIME_2023.day - dt.day) < 2\n",
    "  return correct_year and correct_month and correct_day"
   ]
  },
  {
   "cell_type": "code",
   "execution_count": null,
   "metadata": {},
   "outputs": [],
   "source": [
    "def fix_dates(mseeks):\n",
    "  nseeks = []\n",
    "  for s in mseeks:\n",
    "    nstamps = []\n",
    "    for ts, f in s:\n",
    "      mdt = datetime.fromtimestamp(ts, tz=TZ_BR).replace(year=2023, month=1, day=8)\n",
    "      mts = int(mdt.timestamp())\n",
    "      nstamps.append([mts, f])\n",
    "    nseeks.append(nstamps)\n",
    "  return nseeks"
   ]
  },
  {
   "cell_type": "code",
   "execution_count": null,
   "metadata": {},
   "outputs": [],
   "source": [
    "def remove_bad_times(mseeks):\n",
    "  nseeks = []\n",
    "  for s in mseeks:\n",
    "    nstamps = []\n",
    "    for ts, f in s:\n",
    "      if ts != ERROR_TIMESTAMP:\n",
    "        mdt = datetime.fromtimestamp(ts, tz=TZ_BR).replace(year=2023, month=1, day=8)\n",
    "        mts = int(mdt.timestamp())\n",
    "        nstamps.append([mts, f])\n",
    "    nseeks.append(nstamps)\n",
    "  return nseeks"
   ]
  },
  {
   "cell_type": "code",
   "execution_count": null,
   "metadata": {},
   "outputs": [],
   "source": [
    "def timestamp_str(ts):\n",
    "  return datetime.fromtimestamp(ts, tz=TZ_BR).strftime(DATETIME_STR_FORMAT)\n",
    "\n",
    "def datetime_str(dt):\n",
    "  return dt.strftime(DATETIME_STR_FORMAT)"
   ]
  },
  {
   "cell_type": "code",
   "execution_count": null,
   "metadata": {},
   "outputs": [],
   "source": [
    "with open(CAMERA_DB_PATH, \"r\") as f:\n",
    "  camera_data = json.load(f)"
   ]
  },
  {
   "cell_type": "code",
   "execution_count": null,
   "metadata": {},
   "outputs": [],
   "source": [
    "error_data = []\n",
    "\n",
    "for io_dir in sorted(camera_data.keys()):\n",
    "  vid_dir_paths = [path.join(dir_path, io_dir) for dir_path in META_PATHS]\n",
    "  input_files = sorted([f for f in listdir(vid_dir_paths[0]) if f.endswith(\"json\")])\n",
    "  print(\"processing\", io_dir)\n",
    "\n",
    "  for io_file in input_files:\n",
    "    input_file_paths = [path.join(file_path, io_file) for file_path in vid_dir_paths]\n",
    "    input_file_objs = [open(input_file_path, \"r\") for input_file_path in input_file_paths]\n",
    "    video_data = [json.load(fo) for fo in input_file_objs]\n",
    "\n",
    "    mcontinuous = [vd[\"continuous\"] for vd in video_data]\n",
    "\n",
    "    mseeks = [vd[\"seek\"] for vd in video_data]\n",
    "    # mseeks = fix_dates(mseeks) # TRYAL\n",
    "    # mseeks = remove_bad_times(mseeks) # TRYAL\n",
    "\n",
    "    mdatetimes = [[datetime.fromtimestamp(ts, tz=TZ_BR) for (ts, _) in s] for s in mseeks]\n",
    "    mtimestamps = [[ts for (ts, _) in s] for s in mseeks]\n",
    "    mframes = [[f for (_, f) in s] for s in mseeks]\n",
    "    stamp_counts = [len(s) for s in mseeks]\n",
    "\n",
    "    # check if all methods have same number of timestamps\n",
    "    len_errors = [len(s) != len(mseeks[0]) for s in mseeks]\n",
    "    if any(len_errors):\n",
    "      error_lengths = [len(s) for s in mseeks]\n",
    "      print(io_file, \"lengths\", error_lengths, mseeks)\n",
    "\n",
    "    # check if time == 00:00:00\n",
    "    time_errors = [[ts == ERROR_TIMESTAMP for ts in tss] for tss in mtimestamps]\n",
    "    time_error_counts = [sum(te) for te in time_errors]\n",
    "\n",
    "    if any(time_error_counts):\n",
    "      time_values = [[timestamp_str(ts) for ts in tss if ts == ERROR_TIMESTAMP] for tss in mtimestamps]\n",
    "      print(io_file, \"time\", time_error_counts, time_values)\n",
    "\n",
    "    # check if date not 2023/01/08\n",
    "    date_errors = [[not correct_date(dt) for dt in dts] for dts in mdatetimes]\n",
    "    date_error_counts = [sum(dte) for dte in date_errors]\n",
    "\n",
    "    if any(date_error_counts):\n",
    "      date_values = [[datetime_str(dt) for dt in dts if not correct_date(dt)] for dts in mdatetimes]\n",
    "      print(io_file, \"date\", date_error_counts, date_values)\n",
    "\n",
    "    # check if all methods have analyzed the same frames\n",
    "    frame_errors = [[[f0 != f1 for f0, f1 in zip(fs0, fs1)] for fs1 in mframes] for fs0 in mframes]    \n",
    "    frame_error_counts = [sum([sum(fe) for fe in fes]) for fes in frame_errors]\n",
    "\n",
    "    if any(frame_error_counts):\n",
    "      frame_values = [[[(f0, f1) for f0, f1 in zip(fs0, fs1) if f0 != f1] for fs1 in mframes] for fs0 in mframes]\n",
    "      print(io_file, \"frame\", frame_error_counts, frame_values)\n",
    "\n",
    "    # check mismatch between pairs of stamps\n",
    "    stamp_errors = [[[ts0 != ts1 for ts0, ts1 in zip(tss0, tss1)] for tss1 in mtimestamps] for tss0 in mtimestamps]\n",
    "    stamp_error_counts = [sum([sum(pe) for pe in pes]) for pes in stamp_errors]\n",
    "\n",
    "    if any(stamp_error_counts):\n",
    "      stamp_values = [[[(timestamp_str(ts0), timestamp_str(ts1)) for ts0, ts1 in zip(tss0, tss1) if ts0 != ts1] for tss1 in mtimestamps] for tss0 in mtimestamps]\n",
    "      print(io_file, \"mismatch\", stamp_error_counts, stamp_values)\n",
    "\n",
    "    # check monotonicity\n",
    "    mono_errors = [[ts1 < ts0 for ts0, ts1 in zip(tss[:-1], tss[1:])] for tss in mtimestamps]\n",
    "    mono_error_counts = [sum(me) for me in mono_errors]\n",
    "\n",
    "    if any(mono_error_counts):\n",
    "      mono_values = [[(timestamp_str(ts0), timestamp_str(ts1)) for ts0, ts1 in zip(tss[:-1], tss[1:]) if ts1 < ts0] for tss in mtimestamps]\n",
    "      print(io_file, \"monotonicity\", mono_error_counts, mono_values)\n",
    "\n",
    "    # append error data\n",
    "    for i, p in enumerate(META_PATHS):\n",
    "      error_data.append({\n",
    "        \"method\": p.replace(\"./metadata/\", \"\"),\n",
    "        \"name\": io_file.replace(\".json\", \"\"),\n",
    "        \"camera\": io_dir,\n",
    "        \"continuous\": mcontinuous[i],\n",
    "        \"time-error\": time_error_counts[i],\n",
    "        \"date-error\": date_error_counts[i],\n",
    "        \"frame-error\": frame_error_counts[i],\n",
    "        \"stamp-error\": stamp_error_counts[i],\n",
    "        \"mono-error\": mono_error_counts[i],\n",
    "        \"stamp-count\": stamp_counts[i]\n",
    "      })"
   ]
  },
  {
   "cell_type": "code",
   "execution_count": null,
   "metadata": {},
   "outputs": [],
   "source": [
    "error_df = pd.DataFrame.from_records(error_data)\n",
    "\n",
    "non_error = [\"method\", \"name\", \"camera\"]\n",
    "\n",
    "methods = error_df[\"method\"].unique()\n",
    "cameras = error_df[\"camera\"].unique()\n",
    "files = error_df[\"name\"].unique()"
   ]
  },
  {
   "cell_type": "code",
   "execution_count": null,
   "metadata": {},
   "outputs": [],
   "source": [
    "by_method = {m: error_df[error_df[\"method\"] == m] for m in methods}\n",
    "\n",
    "for m, df in by_method.items():\n",
    "  nrows = len(df.index)\n",
    "  ncols = len(df.columns)\n",
    "  nstamps = df[\"stamp-count\"].sum()\n",
    "  print(m, \":\", nrows, \"records,\", nstamps, \"timestamps\")\n",
    "\n",
    "  for met in [\"time\", \"date\"]:\n",
    "    for pct in [75, 50, 25]:\n",
    "      limit = int(pct/100 * 17)\n",
    "      df.insert(ncols, f\"{met}-error_{pct}\", (df[f\"{met}-error\"] > limit).values)\n",
    "\n",
    "  error_sums = df.drop(columns=non_error).sum().to_frame(name=\"sums\")\n",
    "  error_sums[\"pct\"] = error_sums[\"sums\"] / nstamps\n",
    "\n",
    "  error_sums.loc[\"continuous\", \"pct\"] = error_sums.loc[\"continuous\", \"sums\"] / nrows\n",
    "\n",
    "  for met in [\"time\", \"date\"]:\n",
    "    for pct in [75, 50, 25]:\n",
    "      error_sums.loc[f\"{met}-error_{pct}\", \"pct\"] = error_sums.loc[f\"{met}-error_{pct}\", \"sums\"] / nrows\n",
    "\n",
    "  print(error_sums, \"\\n\")"
   ]
  },
  {
   "cell_type": "code",
   "execution_count": null,
   "metadata": {},
   "outputs": [],
   "source": [
    "by_method_camera = [error_df[(error_df[\"method\"] == m) & (error_df[\"camera\"] == c)] for m in methods for c in cameras]\n",
    "\n",
    "by_camera_df = pd.DataFrame()\n",
    "\n",
    "for df in by_method_camera:\n",
    "  m = df[\"method\"].values[0]\n",
    "  c = df[\"camera\"].values[0]\n",
    "  nrows = len(df.index)\n",
    "  ncols = len(df.columns)\n",
    "  nstamps = df[\"stamp-count\"].sum()\n",
    "\n",
    "  msum = df.drop(columns=non_error).sum()\n",
    "  mpct = pd.Series(msum / nstamps).add_suffix(\"-pct\")\n",
    "  mrow = pd.concat((pd.Series([m,c], index=[\"method\",\"camera\"]), msum, mpct))\n",
    "  mframe = pd.DataFrame([mrow.values], columns=mrow.index.values).drop(columns=[\"stamp-count-pct\"])\n",
    "\n",
    "  by_camera_df = pd.concat((by_camera_df, mframe))"
   ]
  },
  {
   "cell_type": "code",
   "execution_count": null,
   "metadata": {},
   "outputs": [],
   "source": [
    "by_camera_df.sort_values(\"time-error-pct\", ascending=False)[:10]"
   ]
  },
  {
   "cell_type": "code",
   "execution_count": null,
   "metadata": {},
   "outputs": [],
   "source": [
    "by_camera_df.sort_values(\"date-error-pct\", ascending=False).head()"
   ]
  },
  {
   "cell_type": "code",
   "execution_count": null,
   "metadata": {},
   "outputs": [],
   "source": [
    "by_camera_df.sort_values(\"stamp-error-pct\", ascending=False)[:10]"
   ]
  },
  {
   "cell_type": "code",
   "execution_count": null,
   "metadata": {},
   "outputs": [],
   "source": [
    "by_camera_df.sort_values(\"mono-error-pct\", ascending=False)[:10]"
   ]
  },
  {
   "cell_type": "code",
   "execution_count": null,
   "metadata": {},
   "outputs": [],
   "source": [
    "by_camera_pp0_df = by_camera_df[by_camera_df[\"method\"] == \"0801-1152-pp0\"]\n",
    "by_camera_pp0_df = by_camera_pp0_df.drop(columns=[\"method\", \"date-error\", \"frame-error\"])"
   ]
  },
  {
   "cell_type": "code",
   "execution_count": null,
   "metadata": {},
   "outputs": [],
   "source": [
    "by_camera_pp0_df.sort_values(\"time-error-pct\", ascending=False)[:10]"
   ]
  },
  {
   "cell_type": "code",
   "execution_count": null,
   "metadata": {},
   "outputs": [],
   "source": [
    "by_camera_pp0_df.sort_values(\"date-error-pct\", ascending=False)[:10]"
   ]
  },
  {
   "cell_type": "code",
   "execution_count": null,
   "metadata": {},
   "outputs": [],
   "source": [
    "by_camera_pp0_df.sort_values(\"mono-error-pct\", ascending=False)[:10]"
   ]
  }
 ],
 "metadata": {
  "kernelspec": {
   "display_name": "Python 3 (ipykernel)",
   "language": "python",
   "name": "python3"
  },
  "language_info": {
   "codemirror_mode": {
    "name": "ipython",
    "version": 3
   },
   "file_extension": ".py",
   "mimetype": "text/x-python",
   "name": "python",
   "nbconvert_exporter": "python",
   "pygments_lexer": "ipython3",
   "version": "3.10.13"
  }
 },
 "nbformat": 4,
 "nbformat_minor": 4
}
