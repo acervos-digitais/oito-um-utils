{
 "cells": [
  {
   "cell_type": "code",
   "execution_count": null,
   "metadata": {},
   "outputs": [],
   "source": [
    "import json\n",
    "import re\n",
    "import subprocess\n",
    "\n",
    "from multiprocessing import JoinableQueue as Queue\n",
    "from os import listdir, path\n",
    "\n",
    "CAMERA_DB_PATH = \"./metadata/cameras.json\"\n",
    "\n",
    "INPUT_PATH = \"/home/vmubuntu/OitoDeJaneiro/vids/FULL-0801\"\n",
    "OUTPUT_PATH = \"/home/vmubuntu/OitoDeJaneiro/vids/0801-500\"\n",
    "\n",
    "MV_CMD = 'mv \"INPUT_PATH\" \"OUTPUT_PATH\"'"
   ]
  },
  {
   "cell_type": "code",
   "execution_count": null,
   "metadata": {},
   "outputs": [],
   "source": [
    "with open(CAMERA_DB_PATH, \"r\") as f:\n",
    "  camera_data = json.load(f)"
   ]
  },
  {
   "cell_type": "code",
   "execution_count": null,
   "metadata": {},
   "outputs": [],
   "source": [
    "def clean_name(inp):\n",
    "  out_name = inp.replace(\" \", \"-\").replace(\"Ã\", \"A\")\n",
    "  out_name = out_name.replace(\"(\", \"-\").replace(\")\", \"-\")\n",
    "  out_name = out_name.replace(\"-.\", \".\")\n",
    "  out_name = re.sub(r'[-]+', '-', out_name)\n",
    "  out_name = re.sub(r'[_]+', '_', out_name)\n",
    "  out_name = re.sub(r'^([234])-ANDAR', r'\\1o-ANDAR', out_name)\n",
    "  out_name = re.sub(r'_08012023([0-9]{6})', r'_08012023_\\1', out_name)\n",
    "  return out_name"
   ]
  },
  {
   "cell_type": "code",
   "execution_count": null,
   "metadata": {},
   "outputs": [],
   "source": [
    "to_process = Queue()\n",
    "\n",
    "for input_dir in camera_data.keys():\n",
    "  input_dir_path = path.join(INPUT_PATH, input_dir)\n",
    "  input_files = sorted([f for f in listdir(input_dir_path) if f.endswith(\"mp4\")])\n",
    "  for input_file in input_files:\n",
    "    output_file = clean_name(input_file)\n",
    "    output_file_path = path.join(input_dir_path, output_file)\n",
    "    if not path.exists(output_file_path):\n",
    "      input_file_path = path.join(input_dir_path, input_file)\n",
    "      to_process.put((input_file_path, output_file_path))"
   ]
  },
  {
   "cell_type": "code",
   "execution_count": null,
   "metadata": {},
   "outputs": [],
   "source": [
    "while not to_process.empty():\n",
    "    inp, outp = to_process.get()\n",
    "    my_cmd = MV_CMD.replace(\"INPUT_PATH\", inp).replace(\"OUTPUT_PATH\", outp)\n",
    "    print(my_cmd)\n",
    "    ret = subprocess.run(my_cmd, shell=True)"
   ]
  }
 ],
 "metadata": {
  "language_info": {
   "name": "python"
  }
 },
 "nbformat": 4,
 "nbformat_minor": 2
}
