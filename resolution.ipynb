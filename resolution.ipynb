{
 "cells": [
  {
   "cell_type": "code",
   "execution_count": null,
   "metadata": {},
   "outputs": [],
   "source": [
    "import cv2\n",
    "import json\n",
    "\n",
    "from os import listdir, path\n",
    "\n",
    "VIDEO_PATH = \"../../vids/0801-1152\"\n",
    "CAMERA_DB_PATH = \"./metadata/cameras.json\"\n",
    "VIDEO_DB_PATH = \"./metadata/videos.json\"\n",
    "METADATA_PATH = \"./metadata/0801-1152\""
   ]
  },
  {
   "cell_type": "code",
   "execution_count": null,
   "metadata": {},
   "outputs": [],
   "source": [
    "with open(CAMERA_DB_PATH, \"r\") as f:\n",
    "  camera_data = json.load(f)\n",
    "\n",
    "with open(VIDEO_DB_PATH, \"r\") as f:\n",
    "  video_data = json.load(f)"
   ]
  },
  {
   "cell_type": "markdown",
   "metadata": {},
   "source": [
    "### Resolution"
   ]
  },
  {
   "cell_type": "code",
   "execution_count": null,
   "metadata": {},
   "outputs": [],
   "source": [
    "for io_dir in sorted(camera_data.keys()):\n",
    "  input_dir_path = path.join(VIDEO_PATH, io_dir)\n",
    "  input_files = sorted([f for f in listdir(input_dir_path) if f.endswith(\"mp4\")])\n",
    "\n",
    "  m_cam_res = camera_data[io_dir][\"resolution\"]\n",
    "  cam_width = m_cam_res[0] if 0 < len(m_cam_res) else 0\n",
    "  cam_height = m_cam_res[1] if 1 < len(m_cam_res) else 0\n",
    "\n",
    "  for io_file in input_files:\n",
    "    print(io_file)\n",
    "    input_file_path = path.join(input_dir_path, io_file)\n",
    "    vid = cv2.VideoCapture(input_file_path)\n",
    "\n",
    "    m_width = int(vid.get(cv2.CAP_PROP_FRAME_WIDTH))\n",
    "    m_height = int(vid.get(cv2.CAP_PROP_FRAME_HEIGHT))\n",
    "\n",
    "    if cam_width == 0 or cam_height == 0:\n",
    "      cam_width, cam_height = m_width, m_height\n",
    "    elif abs(cam_width - m_width) > 2:\n",
    "      print(\"ERROR: video resolution\", io_file, cam_width, m_width)\n",
    "    elif abs(cam_height - m_height) > 2:\n",
    "      print(\"ERROR: video resolution\", io_file, cam_height, m_height)\n",
    "    else:\n",
    "      cam_width, cam_height = m_width, m_height\n",
    "\n",
    "    vid.release()\n",
    "\n",
    "  camera_data[io_dir][\"resolution\"] = [cam_width, cam_height]"
   ]
  },
  {
   "cell_type": "markdown",
   "metadata": {},
   "source": [
    "### FPS"
   ]
  },
  {
   "cell_type": "code",
   "execution_count": null,
   "metadata": {},
   "outputs": [],
   "source": [
    "for io_dir in sorted(camera_data.keys()):\n",
    "  print(io_dir)\n",
    "  input_dir_path = path.join(VIDEO_PATH, io_dir)\n",
    "  input_files = sorted([f for f in listdir(input_dir_path) if f.endswith(\"mp4\")])\n",
    "\n",
    "  vid_fps = {}\n",
    "\n",
    "  for io_file in input_files:\n",
    "    input_file_path = path.join(input_dir_path, io_file)\n",
    "    vid = cv2.VideoCapture(input_file_path)\n",
    "    m_fps = round(vid.get(cv2.CAP_PROP_FPS))\n",
    "\n",
    "    vid_fps[m_fps] = m_fps\n",
    "    video_data[io_file][\"fps\"] = m_fps\n",
    "\n",
    "    meta_file_path = path.join(METADATA_PATH, io_dir, io_file.replace(\"mp4\", \"json\"))\n",
    "    with open(meta_file_path, \"r+\") as f:\n",
    "      m_video_data = json.load(f)\n",
    "      m_video_data[\"fps\"] = m_fps\n",
    "      f.seek(0)\n",
    "      json.dump(m_video_data, f)\n",
    "      f.truncate()\n",
    "\n",
    "    vid.release()\n",
    "\n",
    "  camera_data[io_dir][\"fps\"] = sorted(list(vid_fps.keys()))"
   ]
  },
  {
   "cell_type": "code",
   "execution_count": null,
   "metadata": {},
   "outputs": [],
   "source": [
    "with open(CAMERA_DB_PATH, \"w\") as f:\n",
    "  json.dump(camera_data, f, indent=2)\n",
    "\n",
    "with open(VIDEO_DB_PATH, \"w\") as f:\n",
    "  json.dump(video_data, f, indent=2, separators=(',',':'))"
   ]
  }
 ],
 "metadata": {
  "kernelspec": {
   "display_name": "Python 3 (ipykernel)",
   "language": "python",
   "name": "python3"
  },
  "language_info": {
   "codemirror_mode": {
    "name": "ipython",
    "version": 3
   },
   "file_extension": ".py",
   "mimetype": "text/x-python",
   "name": "python",
   "nbconvert_exporter": "python",
   "pygments_lexer": "ipython3",
   "version": "3.10.9"
  }
 },
 "nbformat": 4,
 "nbformat_minor": 4
}
