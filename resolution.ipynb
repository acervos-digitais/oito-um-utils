{
 "cells": [
  {
   "cell_type": "code",
   "execution_count": 5,
   "metadata": {},
   "outputs": [],
   "source": [
    "import json\n",
    "import re\n",
    "import subprocess\n",
    "\n",
    "from multiprocessing import Process, JoinableQueue as Queue\n",
    "from os import listdir, path\n",
    "from queue import Empty as QueueEmptyException\n",
    "\n",
    "VIDEO_PATH = \"/home/vmubuntu/OitoDeJaneiro/vids/FULL-0801\"\n",
    "CAMERA_DB_PATH = \"./metadata/cameras.json\""
   ]
  },
  {
   "cell_type": "code",
   "execution_count": 6,
   "metadata": {},
   "outputs": [],
   "source": [
    "with open(CAMERA_DB_PATH, \"r\") as f:\n",
    "  camera_data = json.load(f)"
   ]
  },
  {
   "cell_type": "code",
   "execution_count": null,
   "metadata": {},
   "outputs": [],
   "source": [
    "for io_dir in camera_data.keys():\n",
    "  input_dir_path = path.join(VIDEO_PATH, io_dir)\n",
    "  input_files = sorted([f for f in listdir(input_dir_path) if f.endswith(\"mp4\")])\n",
    "\n",
    "  m_cam_res = camera_data[io_dir][\"resolution\"]\n",
    "  cam_width = m_cam_res[0] if 0 < len(m_cam_res) else 0\n",
    "  cam_height = m_cam_res[1] if 1 < len(m_cam_res) else 0\n",
    "\n",
    "  for io_file in input_files:\n",
    "    input_file_path = path.join(input_dir_path, io_file)\n",
    "    vid = cv2.VideoCapture(input_file_path)\n",
    "\n",
    "    m_width = vid.get(cv2.CAP_PROP_FRAME_WIDTH)\n",
    "    m_height = vid.get(cv2.CAP_PROP_FRAME_HEIGHT)\n",
    "\n",
    "    if cam_width == 0 or cam_height == 0:\n",
    "      cam_width, cam_height = m_width, m_height\n",
    "    elif abs(cam_width - m_width) > 2:\n",
    "      print(\"ERROR: video resolution\", io_file, cam_width, m_width)\n",
    "    elif abs(cam_height - m_height) > 2:\n",
    "      print(\"ERROR: video resolution\", io_file, cam_height, m_height)\n",
    "    else:\n",
    "      cam_width, cam_height = m_width, m_height\n",
    "  \n",
    "  camera_data[io_dir][\"resolution\"] = [cam_width, cam_height]"
   ]
  },
  {
   "cell_type": "code",
   "execution_count": null,
   "metadata": {},
   "outputs": [],
   "source": [
    "with open(CAMERA_DB_PATH, \"w\") as f:\n",
    "  json.dump(camera_data, f, indent=2)"
   ]
  }
 ],
 "metadata": {
  "kernelspec": {
   "display_name": "9103",
   "language": "python",
   "name": "python3"
  },
  "language_info": {
   "codemirror_mode": {
    "name": "ipython",
    "version": 3
   },
   "file_extension": ".py",
   "mimetype": "text/x-python",
   "name": "python",
   "nbconvert_exporter": "python",
   "pygments_lexer": "ipython3",
   "version": "3.10.13"
  }
 },
 "nbformat": 4,
 "nbformat_minor": 2
}
