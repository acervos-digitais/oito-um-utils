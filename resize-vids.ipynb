{
 "cells": [
  {
   "cell_type": "code",
   "execution_count": null,
   "metadata": {},
   "outputs": [],
   "source": [
    "from multiprocessing import Process, JoinableQueue as Queue\n",
    "from os import listdir, makedirs, path\n",
    "\n",
    "import re\n",
    "import subprocess\n",
    "\n",
    "INPUT_PATH = \"/home/vmubuntu/OitoDeJaneiro/vids/FULL-0801\"\n",
    "OUTPUT_PATH = \"/home/vmubuntu/OitoDeJaneiro/vids/0801-500\"\n",
    "\n",
    "INPUT_DIRS = [\n",
    "  \"01-COBERTURA-PP-OESTE\",\n",
    "  \"02-COBERTURA-ENTRADA-PR\",\n",
    "  \"03-ENTRADA-PP-RAIO-X-TERREO\",\n",
    "  \"04-PALACIO-ALA-LESTE-TERREO\",\n",
    "  \"05-PALACIO-ALA-OESTE\",\n",
    "  \"06-PRIVATIVO-COMBOIO\",\n",
    "  \"07-SALA-PG-3-PISO\",\n",
    "  \"08-SUBSOLO-ADM\",\n",
    "  \"09-ELEVADOR-DE-SERVICO-TERREO\",\n",
    "  \"10-SALAO-NOBRE\",\n",
    "  \"11-SALAO-OESTE\",\n",
    "  \"12-2o-ANDAR-RAMPA\",\n",
    "  \"13-2o-ANDAR-ELEVADOR-LESTE\",\n",
    "  \"14-2o-ANDAR-ELEVADOR-OESTE\",\n",
    "  \"15-MESANINO\",\n",
    "  \"16-CAMERA-VIP-PR\",\n",
    "  \"17-3o-ANDAR-SALA-PR\",\n",
    "  \"18-3o-ANDAR-SALA-DE-AUDIENCIA\",\n",
    "  \"19-3o-ANDAR-CORREDOR-ACESSO-LESTE\",\n",
    "  \"20-ELEVADORES-ALA-OESTE\",\n",
    "  \"21-2o-ANDAR-ESCADA-OESTE\",\n",
    "  \"22-3o-ANDAR-ESCADA-OESTE\",\n",
    "  \"23-ELEVADOR-MINISTROS\",\n",
    "  \"24-4o-ANDAR-ELEVADOR-LESTE\",\n",
    "  \"25-4o-ANDAR-ESCADA-OESTE\",\n",
    "  \"26-4o-ANDAR-ELEVADOR-OESTE\",\n",
    "  \"27-4o-ANDAR-LADO-LESTE\",\n",
    "  \"28-4o-ANDAR-LADO-OESTE\",\n",
    "  \"29-ANEXO-I\",\n",
    "  \"30-ANEXO-I-ENTRADA-PRINCIPAL-CATRACAS\",\n",
    "  \"31-ANEXO-I-CONCHA-ANEXO\",\n",
    "  \"32-ANEXO-III-REFEITORIO-CREDEN\",\n",
    "  \"33-ANEXO-III-REFEITORIO\",\n",
    "]\n",
    "\n",
    "FFMPEG_CMD = 'ffmpeg -i \"INPUT_PATH\" -vf scale=500:-2 -an \"OUTPUT_PATH\"'\n",
    "MV_CMD = 'mv \"INPUT_PATH\" \"OUTPUT_PATH\"'"
   ]
  },
  {
   "cell_type": "code",
   "execution_count": null,
   "metadata": {},
   "outputs": [],
   "source": [
    "def clean_name(inp):\n",
    "  out_name = inp.replace(\" \", \"-\").replace(\"Ã\", \"A\")\n",
    "  out_name = out_name.replace(\"(\", \"-\").replace(\")\", \"-\")\n",
    "  out_name = out_name.replace(\"-.\", \".\")\n",
    "  out_name = re.sub(r'[-]+', '-', out_name)\n",
    "  out_name = re.sub(r'[_]+', '_', out_name)\n",
    "  out_name = re.sub(r'^([234])-ANDAR', r'\\1o-ANDAR', out_name)\n",
    "  out_name = re.sub(r'_08012023([0-9]{6})', r'_08012023_\\1', out_name)\n",
    "  return out_name"
   ]
  },
  {
   "cell_type": "markdown",
   "metadata": {},
   "source": [
    "### RESIZE VIDEOS"
   ]
  },
  {
   "cell_type": "code",
   "execution_count": null,
   "metadata": {},
   "outputs": [],
   "source": [
    "def run_ffmpeg(q):\n",
    "  while True:\n",
    "    try:\n",
    "      ip, op = q.get(timeout=3)\n",
    "    except queue.Empty:\n",
    "      return\n",
    "    my_cmd = FFMPEG_CMD.replace(\"INPUT_PATH\", ip).replace(\"OUTPUT_PATH\", op)\n",
    "    print(my_cmd)\n",
    "    ret = subprocess.run(my_cmd, shell=True)\n",
    "    q.task_done()"
   ]
  },
  {
   "cell_type": "code",
   "execution_count": null,
   "metadata": {},
   "outputs": [],
   "source": [
    "to_process = Queue()\n",
    "\n",
    "for io_dir in INPUT_DIRS:\n",
    "  input_dir_path = path.join(INPUT_PATH, io_dir)\n",
    "  output_dir_path = path.join(OUTPUT_PATH, io_dir)\n",
    "  makedirs(output_dir_path, exist_ok=True)\n",
    "\n",
    "  input_files = sorted([f for f in listdir(input_dir_path) if f.endswith(\"mp4\")])\n",
    "  for io_file in input_files:\n",
    "    output_file_path = path.join(output_dir_path, io_file)\n",
    "    if not path.exists(output_file_path):\n",
    "      input_file_path = path.join(input_dir_path, io_file)\n",
    "      to_process.put((input_file_path, output_file_path))"
   ]
  },
  {
   "cell_type": "code",
   "execution_count": null,
   "metadata": {},
   "outputs": [],
   "source": [
    "for _ in range(4):\n",
    "  Process(target=run_ffmpeg, args=(to_process,)).start()\n",
    "\n",
    "to_process.join()\n",
    "print(\"DONE\")"
   ]
  },
  {
   "cell_type": "markdown",
   "metadata": {},
   "source": [
    "### RENAME DIRS AND FILES"
   ]
  },
  {
   "cell_type": "code",
   "execution_count": null,
   "metadata": {},
   "outputs": [],
   "source": [
    "to_process = Queue()\n",
    "\n",
    "for input_dir in INPUT_DIRS:\n",
    "  input_dir_path = path.join(INPUT_PATH, input_dir)\n",
    "  input_files = sorted([f for f in listdir(input_dir_path) if f.endswith(\"mp4\")])\n",
    "  for input_file in input_files:\n",
    "    output_file = clean_name(input_file)\n",
    "    output_file_path = path.join(input_dir_path, output_file)\n",
    "    if not path.exists(output_file_path):\n",
    "      input_file_path = path.join(input_dir_path, input_file)\n",
    "      to_process.put((input_file_path, output_file_path))"
   ]
  },
  {
   "cell_type": "code",
   "execution_count": null,
   "metadata": {},
   "outputs": [],
   "source": [
    "while not to_process.empty():\n",
    "    inp, outp = to_process.get()\n",
    "    my_cmd = MV_CMD.replace(\"INPUT_PATH\", inp).replace(\"OUTPUT_PATH\", outp)\n",
    "    print(my_cmd)\n",
    "    ret = subprocess.run(my_cmd, shell=True)"
   ]
  },
  {
   "cell_type": "code",
   "execution_count": null,
   "metadata": {},
   "outputs": [],
   "source": []
  }
 ],
 "metadata": {
  "kernelspec": {
   "display_name": "Python 3 (ipykernel)",
   "language": "python",
   "name": "python3"
  },
  "language_info": {
   "codemirror_mode": {
    "name": "ipython",
    "version": 3
   },
   "file_extension": ".py",
   "mimetype": "text/x-python",
   "name": "python",
   "nbconvert_exporter": "python",
   "pygments_lexer": "ipython3",
   "version": "3.10.13"
  }
 },
 "nbformat": 4,
 "nbformat_minor": 4
}
