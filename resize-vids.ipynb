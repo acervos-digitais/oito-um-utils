{
 "cells": [
  {
   "cell_type": "code",
   "execution_count": 12,
   "metadata": {},
   "outputs": [],
   "source": [
    "from os import listdir, makedirs, path\n",
    "\n",
    "import queue\n",
    "import re\n",
    "import subprocess\n",
    "import threading\n",
    "\n",
    "INPUT_PATH = \"0801\"\n",
    "OUTPUT_PATH = \"0801s\"\n",
    "\n",
    "INPUT_DIRS = [\n",
    "  '01-COBERTURA PP OESTE',\n",
    "  '02-COBERTURA ENTRADA PR',\n",
    "  '03-ENTRADA PP RAIO X - TERREO',\n",
    "  '04-PALACIO ALA LESTE - TERREO',\n",
    "  '05-PALACIO ALA OESTE',\n",
    "  '06-PRIVATIVO COMBOIO',\n",
    "  '07-SALA PG - 3 PISO',\n",
    "  '08-SUBSOLO ADM',\n",
    "  '09-ELEVADOR DE SERVICO - TERREO',\n",
    "  '10-SALAO NOBRE',\n",
    "  '11-SALAO OESTE',\n",
    "  '12-2º ANDAR RAMPA',\n",
    "  '13-2º ANDAR ELEVADOR LESTE',\n",
    "  '14-2º ANDAR ELEVADOR OESTE',\n",
    "  '15-MESANINO',\n",
    "  '16-CAMERA-VIP-PR',\n",
    "  '17 3º ANDAR SALA PR',\n",
    "  '18-3º ANDAR SALA DE AUDIENCIA',\n",
    "  '19-3º ANDAR CORREDOR ACESSO LESTE',\n",
    "  '20-ELEVADORES ALA OESTE',\n",
    "  '21-2º ANDAR ESCADA OESTE',\n",
    "  '22-3º ANDAR ESCADA OESTE',\n",
    "  '23-Elevador Ministros',\n",
    "  '24-4° Andar - Elevador Leste',\n",
    "  '25-4° Andar - Escada Oeste',\n",
    "  '26-4º Andar - Elevador Oeste',\n",
    "  '27-4º Andar - Lado Leste',\n",
    "  '28-4º Andar - Lado Oeste',\n",
    "  '29-Anexo I',\n",
    "  '30-Anexo I - Entrada Principal Catracas',\n",
    "  '31-Anexo I - Concha Anexo',\n",
    "  '32-Anexo III - Refeitorio Creden',\n",
    "  '33-Anexo III - Refeitorio',\n",
    "]\n",
    "\n",
    "FFMPEG_CMD = 'ffmpeg -i \"INPUT_PATH\" -vf scale=500:-2 -an \"OUTPUT_PATH\"'"
   ]
  },
  {
   "cell_type": "code",
   "execution_count": null,
   "metadata": {},
   "outputs": [],
   "source": [
    "def clean_name(inp):\n",
    "  out_name = inp.replace(\" \", \"-\")\n",
    "  out_name = re.sub(r'[º°]', 'o', out_name)\n",
    "  out_name = re.sub(r'[-]+', '-', out_name)\n",
    "  out_name = re.sub(r'[_]+', '_', out_name)\n",
    "  return out_name.lower()"
   ]
  },
  {
   "cell_type": "code",
   "execution_count": 13,
   "metadata": {},
   "outputs": [],
   "source": [
    "def run_ffmpeg(q):\n",
    "  while True:\n",
    "    try:\n",
    "      ip, op = q.get(timeout=3)\n",
    "    except queue.Empty:\n",
    "      return\n",
    "    my_cmd = FFMPEG_CMD.replace(\"INPUT_PATH\", ip).replace(\"OUTPUT_PATH\", op)\n",
    "    print(my_cmd)\n",
    "    # ret = subprocess.run(my_cmd, shell=True)\n",
    "    q.task_done()"
   ]
  },
  {
   "cell_type": "code",
   "execution_count": null,
   "metadata": {},
   "outputs": [],
   "source": [
    "to_process = queue.Queue()\n",
    "\n",
    "for input_dir in INPUT_DIRS:\n",
    "  output_dir = clean_name(input_dir)\n",
    "  output_dir_path = path.join(OUTPUT_PATH, output_dir)\n",
    "  makedirs(output_dir_path, exist_ok=True)\n",
    "\n",
    "  input_dir_path = path.join(INPUT_PATH, input_dir)\n",
    "  input_files = [f for f in listdir(input_dir_path) if f.endswith(\"mp4\")]\n",
    "  for input_file in input_files:\n",
    "    output_file = clean_name(input_file)\n",
    "    output_file_path = path.join(output_dir_path, output_file)\n",
    "    if not path.exists(output_file_path):\n",
    "      input_file_path = path.join(input_dir_path, input_file)\n",
    "      to_process.put((input_file_path, output_file_path))"
   ]
  },
  {
   "cell_type": "code",
   "execution_count": null,
   "metadata": {},
   "outputs": [],
   "source": [
    "for _ in range(4):\n",
    "  threading.Thread(target=run_ffmpeg,\n",
    "                   args=(to_process)).start()\n",
    "\n",
    "to_process.join()\n",
    "print(\"DONE\")"
   ]
  }
 ],
 "metadata": {
  "kernelspec": {
   "display_name": "9103",
   "language": "python",
   "name": "python3"
  },
  "language_info": {
   "codemirror_mode": {
    "name": "ipython",
    "version": 3
   },
   "file_extension": ".py",
   "mimetype": "text/x-python",
   "name": "python",
   "nbconvert_exporter": "python",
   "pygments_lexer": "ipython3",
   "version": "3.10.13"
  }
 },
 "nbformat": 4,
 "nbformat_minor": 2
}
